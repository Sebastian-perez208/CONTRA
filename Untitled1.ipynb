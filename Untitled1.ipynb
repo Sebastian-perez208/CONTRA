{
  "nbformat": 4,
  "nbformat_minor": 0,
  "metadata": {
    "colab": {
      "provenance": [],
      "authorship_tag": "ABX9TyPNKS/DrPs6H+Sw5ke34Zzd",
      "include_colab_link": true
    },
    "kernelspec": {
      "name": "python3",
      "display_name": "Python 3"
    },
    "language_info": {
      "name": "python"
    }
  },
  "cells": [
    {
      "cell_type": "markdown",
      "metadata": {
        "id": "view-in-github",
        "colab_type": "text"
      },
      "source": [
        "<a href=\"https://colab.research.google.com/github/Sebastian-perez208/CONTRA/blob/main/Untitled1.ipynb\" target=\"_parent\"><img src=\"https://colab.research.google.com/assets/colab-badge.svg\" alt=\"Open In Colab\"/></a>"
      ]
    },
    {
      "cell_type": "markdown",
      "source": [
        "Precios por unidad"
      ],
      "metadata": {
        "id": "n-VxyvhTpd4k"
      }
    },
    {
      "cell_type": "code",
      "execution_count": 7,
      "metadata": {
        "id": "aX_sZ-eXmuDh"
      },
      "outputs": [],
      "source": [
        "pan=2\n",
        "pdt=5\n",
        "cafe=3.5"
      ]
    },
    {
      "cell_type": "code",
      "source": [
        "uvpan=print(input(\"Ingrese el numero de unidades vendidas de pan: \"))\n",
        "uvpdt=print(input(\"Ingrese el numero de unidades vendidas de porción de torta: \"))\n",
        "uvcafe=print(input(\"Ingrese el numero de unidades vendidas de cafe: \"))"
      ],
      "metadata": {
        "colab": {
          "base_uri": "https://localhost:8080/"
        },
        "id": "XKC8RBb5tZSU",
        "outputId": "82d7a40a-2155-4a37-966f-fc54c09f37cd"
      },
      "execution_count": 9,
      "outputs": [
        {
          "output_type": "stream",
          "name": "stdout",
          "text": [
            "Ingrese el numero de unidades vendidas de pan: 5\n",
            "5\n",
            "Ingrese el numero de unidades vendidas de porción de torta: 10\n",
            "10\n",
            "Ingrese el numero de unidades vendidas de cafe: 3\n",
            "3\n"
          ]
        }
      ]
    },
    {
      "cell_type": "code",
      "source": [
        "totalsindpan=uvpan*pan(\"El monto total sin descuento de pan es: \")\n",
        "totalsindpdt=uvpdt*pdt(\"El monto total sin descuento de porción de torta es: \")\n",
        "totalsindcafe=uvcafe*cafe(\"El monto total sin descuento de cafe es:\")"
      ],
      "metadata": {
        "colab": {
          "base_uri": "https://localhost:8080/",
          "height": 218
        },
        "id": "5EGu2bxbuwwi",
        "outputId": "a4ea5943-b513-4873-c706-a77ef8b04a75"
      },
      "execution_count": 23,
      "outputs": [
        {
          "output_type": "error",
          "ename": "NameError",
          "evalue": "ignored",
          "traceback": [
            "\u001b[0;31m---------------------------------------------------------------------------\u001b[0m",
            "\u001b[0;31mNameError\u001b[0m                                 Traceback (most recent call last)",
            "\u001b[0;32m<ipython-input-23-39143b2e6939>\u001b[0m in \u001b[0;36m<module>\u001b[0;34m\u001b[0m\n\u001b[0;32m----> 1\u001b[0;31m \u001b[0mtotalsindpan\u001b[0m\u001b[0;34m=\u001b[0m\u001b[0muvpan\u001b[0m\u001b[0;34m*\u001b[0m\u001b[0mpan\u001b[0m\u001b[0;34m(\u001b[0m\u001b[0;34m\"El monto total sin descuento de pan es: \"\u001b[0m\u001b[0;34m)\u001b[0m\u001b[0;34m\u001b[0m\u001b[0;34m\u001b[0m\u001b[0m\n\u001b[0m\u001b[1;32m      2\u001b[0m \u001b[0mtotalsindpdt\u001b[0m\u001b[0;34m=\u001b[0m\u001b[0muvpdt\u001b[0m\u001b[0;34m*\u001b[0m\u001b[0mpdt\u001b[0m\u001b[0;34m(\u001b[0m\u001b[0;34m\"El monto total sin descuento de porción de torta es: \"\u001b[0m\u001b[0;34m)\u001b[0m\u001b[0;34m\u001b[0m\u001b[0;34m\u001b[0m\u001b[0m\n\u001b[1;32m      3\u001b[0m \u001b[0mtotalsindcafe\u001b[0m\u001b[0;34m=\u001b[0m\u001b[0muvcafe\u001b[0m\u001b[0;34m*\u001b[0m\u001b[0mcafe\u001b[0m\u001b[0;34m(\u001b[0m\u001b[0;34m\"El monto total sin descuento de cafe es:\"\u001b[0m\u001b[0;34m)\u001b[0m\u001b[0;34m\u001b[0m\u001b[0;34m\u001b[0m\u001b[0m\n",
            "\u001b[0;31mNameError\u001b[0m: name 'pan' is not defined"
          ]
        }
      ]
    }
  ]
}