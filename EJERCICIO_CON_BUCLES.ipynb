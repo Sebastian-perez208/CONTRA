{
  "nbformat": 4,
  "nbformat_minor": 0,
  "metadata": {
    "colab": {
      "provenance": [],
      "authorship_tag": "ABX9TyPbxMmd2/CRlaubQkliT6BC",
      "include_colab_link": true
    },
    "kernelspec": {
      "name": "python3",
      "display_name": "Python 3"
    },
    "language_info": {
      "name": "python"
    }
  },
  "cells": [
    {
      "cell_type": "markdown",
      "metadata": {
        "id": "view-in-github",
        "colab_type": "text"
      },
      "source": [
        "<a href=\"https://colab.research.google.com/github/Sebastian-perez208/CONTRA/blob/main/EJERCICIO_CON_BUCLES.ipynb\" target=\"_parent\"><img src=\"https://colab.research.google.com/assets/colab-badge.svg\" alt=\"Open In Colab\"/></a>"
      ]
    },
    {
      "cell_type": "code",
      "execution_count": 2,
      "metadata": {
        "colab": {
          "base_uri": "https://localhost:8080/"
        },
        "id": "-Plm7aGx7a1l",
        "outputId": "977c9ac6-fad4-44b7-bb5a-e80822f5c853"
      },
      "outputs": [
        {
          "output_type": "stream",
          "name": "stdout",
          "text": [
            "0\n",
            "1\n",
            "2\n",
            "3\n",
            "4\n"
          ]
        }
      ],
      "source": [
        "for n in range(5):\n",
        "  print(n)"
      ]
    },
    {
      "cell_type": "code",
      "source": [
        "a=0\n",
        "for n in range(2,6):\n",
        "  print(\"El valor de n es \",n)\n",
        "  a=a+1\n",
        "  print(\"El valor de a es \",a)\n",
        "print(\"Terminó el loop\")"
      ],
      "metadata": {
        "colab": {
          "base_uri": "https://localhost:8080/"
        },
        "id": "ZIRamV_JDH5F",
        "outputId": "08cd65c9-036b-499a-8350-627a3c833f11"
      },
      "execution_count": 4,
      "outputs": [
        {
          "output_type": "stream",
          "name": "stdout",
          "text": [
            "El valor de n es  2\n",
            "El valor de a es  1\n",
            "El valor de n es  3\n",
            "El valor de a es  2\n",
            "El valor de n es  4\n",
            "El valor de a es  3\n",
            "El valor de n es  5\n",
            "El valor de a es  4\n",
            "Terminó el loop\n"
          ]
        }
      ]
    },
    {
      "cell_type": "code",
      "source": [
        "lista1=[40.32,7,19]"
      ],
      "metadata": {
        "id": "Rup21xjHEcdC"
      },
      "execution_count": 5,
      "outputs": []
    },
    {
      "cell_type": "code",
      "source": [
        "for n in lista1:\n",
        "  print(n)"
      ],
      "metadata": {
        "colab": {
          "base_uri": "https://localhost:8080/"
        },
        "id": "6gMwF4VcEpTr",
        "outputId": "dc20baca-7962-416a-df19-0093e400487b"
      },
      "execution_count": 6,
      "outputs": [
        {
          "output_type": "stream",
          "name": "stdout",
          "text": [
            "40.32\n",
            "7\n",
            "19\n"
          ]
        }
      ]
    },
    {
      "cell_type": "code",
      "source": [
        "texto=\"Tarde\""
      ],
      "metadata": {
        "id": "T8rEBoMDFYW8"
      },
      "execution_count": 9,
      "outputs": []
    },
    {
      "cell_type": "code",
      "source": [
        "for p in texto:\n",
        "  print(p)"
      ],
      "metadata": {
        "colab": {
          "base_uri": "https://localhost:8080/"
        },
        "id": "0ku56XJVFpdc",
        "outputId": "3930c652-100e-4e4e-e75a-7c8d2a1123a3"
      },
      "execution_count": 10,
      "outputs": [
        {
          "output_type": "stream",
          "name": "stdout",
          "text": [
            "T\n",
            "a\n",
            "r\n",
            "d\n",
            "e\n"
          ]
        }
      ]
    },
    {
      "cell_type": "code",
      "source": [
        "a=4 \n",
        "for i in range(7):\n",
        "  if i<a:\n",
        "    print(i,\"es menor que\",a)\n",
        "  elif i==a:\n",
        "    print(i,\"es igual que\",a)\n",
        "  else:\n",
        "     print(i,\"es mayor que\",a)\n",
        "print(\"termino el bucle\")"
      ],
      "metadata": {
        "colab": {
          "base_uri": "https://localhost:8080/"
        },
        "id": "oPSGM2FqF-1k",
        "outputId": "9b58d2be-56cf-4cfb-e6c9-98ad3bbc17e3"
      },
      "execution_count": 17,
      "outputs": [
        {
          "output_type": "stream",
          "name": "stdout",
          "text": [
            "0 es menor que 4\n",
            "1 es menor que 4\n",
            "2 es menor que 4\n",
            "3 es menor que 4\n",
            "4 es igual que 4\n",
            "5 es mayor que 4\n",
            "6 es mayor que 4\n",
            "termino el bucle\n"
          ]
        }
      ]
    }
  ]
}